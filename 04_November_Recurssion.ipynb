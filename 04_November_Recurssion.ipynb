{
 "cells": [
  {
   "cell_type": "code",
   "execution_count": null,
   "id": "8258784c",
   "metadata": {},
   "outputs": [],
   "source": [
    "# Q.1 Can you explain the logic and working of the Tower of Hanoi algorithm by writing a Java program? \n",
    "# How does the recursion work, and how are the movements of disks between rods accomplished?"
   ]
  },
  {
   "cell_type": "code",
   "execution_count": 1,
   "id": "8f69d745",
   "metadata": {},
   "outputs": [
    {
     "name": "stdout",
     "output_type": "stream",
     "text": [
      "Move disk 1 from A to C\n",
      "Move disk 2 from A to B\n",
      "Move disk 1 from C to B\n",
      "Move disk 3 from A to C\n",
      "Move disk 1 from B to A\n",
      "Move disk 2 from B to C\n",
      "Move disk 1 from A to C\n"
     ]
    }
   ],
   "source": [
    "def tower_of_hanoi(n, source_rod, target_rod, auxiliary_rod):\n",
    "    if n == 1:\n",
    "        print(f\"Move disk 1 from {source_rod} to {target_rod}\")\n",
    "        return\n",
    "    tower_of_hanoi(n-1, source_rod, auxiliary_rod, target_rod)\n",
    "    print(f\"Move disk {n} from {source_rod} to {target_rod}\")\n",
    "    tower_of_hanoi(n-1, auxiliary_rod, target_rod, source_rod)\n",
    "\n",
    "# Example usage:\n",
    "n = 3  # Number of disks\n",
    "tower_of_hanoi(n, 'A', 'C', 'B')\n"
   ]
  },
  {
   "cell_type": "code",
   "execution_count": null,
   "id": "53764c0a",
   "metadata": {},
   "outputs": [],
   "source": [
    "# Q.2 Given two strings word1 and word2, return the minimum number of operations required to convert word1 \n",
    "\n",
    "# to word2.\n",
    "\n",
    "# Example 1:\n",
    "\n",
    "#  Input: word1 = \"horse\", word2 = \"ros\"\n",
    "\n",
    "#  Output: 3\n",
    "\n",
    "#  Explanation: \n",
    "\n",
    "#  horse -> rorse (replace 'h' with 'r')\n",
    "\n",
    "#  rorse -> rose (remove 'r')\n",
    "\n",
    "#  rose -> ros (remove 'e')\n",
    "\n",
    "# Example 2:\n",
    "\n",
    "#  Input: word1 = \"intention\", word2 = \"execution\"\n",
    "\n",
    "#  Output: 5\n",
    "\n",
    "#  Explanation: \n",
    "\n",
    "#  intention -> inention (remove 't')\n",
    "\n",
    "#  inention -> enention (replace 'i' with 'e')\n",
    "\n",
    "#  enention -> exention (replace 'n' with 'x')\n",
    "\n",
    "#  exention -> exection (replace 'n' with 'c')\n",
    "\n",
    "#  exection -> execution (insert 'u')\n",
    "# Cracking "
   ]
  },
  {
   "cell_type": "code",
   "execution_count": null,
   "id": "6aa057bf",
   "metadata": {},
   "outputs": [],
   "source": [
    "def min_operations_recursive(word1, word2, m, n):\n",
    "    # Base cases\n",
    "    if m == 0:\n",
    "        return n  # If word1 is empty, insert all characters of word2\n",
    "    if n == 0:\n",
    "        return m  # If word2 is empty, delete all characters of word1\n",
    "\n",
    "    # If the last characters are the same, no operation is needed\n",
    "    if word1[m - 1] == word2[n - 1]:\n",
    "        return min_operations_recursive(word1, word2, m - 1, n - 1)\n",
    "\n",
    "    # If the last characters are different, consider all three operations\n",
    "    return 1 + min(\n",
    "        min_operations_recursive(word1, word2, m, n - 1),     # Insertion\n",
    "        min_operations_recursive(word1, word2, m - 1, n),     # Deletion\n",
    "        min_operations_recursive(word1, word2, m - 1, n - 1)  # Substitution\n",
    "    )\n",
    "\n",
    "def min_operations(word1, word2):\n",
    "    return min_operations_recursive(word1, word2, len(word1), len(word2))\n",
    "\n",
    "# Example usage:\n",
    "word1_example = \"horse\"\n",
    "word2_example = \"ros\"\n",
    "result_example = min_operations(word1_example, word2_example)\n",
    "print(f\"Example 1: {result_example}\")\n",
    "\n",
    "word1_example = \"intention\"\n",
    "word2_example = \"execution\"\n",
    "result_example = min_operations(word1_example, word2_example)\n",
    "print(f\"Example 2: {result_example}\")\n"
   ]
  },
  {
   "cell_type": "code",
   "execution_count": 2,
   "id": "95fe7c3f",
   "metadata": {},
   "outputs": [],
   "source": [
    "# Q. 3 Print the max value of the array [ 13, 1, -3, 22, 5]"
   ]
  },
  {
   "cell_type": "code",
   "execution_count": 5,
   "id": "4ec43424",
   "metadata": {},
   "outputs": [
    {
     "name": "stdout",
     "output_type": "stream",
     "text": [
      "The maximum value in the array is: 22\n"
     ]
    }
   ],
   "source": [
    "def max_value(arr):\n",
    "    if len(arr) == 1:\n",
    "        return arr[0]\n",
    "    else:\n",
    "        return max(arr[0], max_value(arr[1:]))\n",
    "\n",
    "arr = [ 13, 1, -3, 22, 5]\n",
    "result = max_value(arr)\n",
    "print(f\"The maximum value in the array is: {result}\")"
   ]
  },
  {
   "cell_type": "code",
   "execution_count": null,
   "id": "c47830cd",
   "metadata": {},
   "outputs": [],
   "source": []
  },
  {
   "cell_type": "code",
   "execution_count": null,
   "id": "89e0ee1b",
   "metadata": {},
   "outputs": [],
   "source": [
    "# Q.4 Find the sum of the values of the array [92, 23, 15, -20, 10]."
   ]
  },
  {
   "cell_type": "code",
   "execution_count": 10,
   "id": "6c00437a",
   "metadata": {},
   "outputs": [
    {
     "name": "stdout",
     "output_type": "stream",
     "text": [
      "The sum of the array is: 120\n"
     ]
    }
   ],
   "source": [
    "def sumArray(arr):\n",
    "    # Base condition\n",
    "    if len(arr) == 1:\n",
    "        return arr[0]\n",
    "    else:\n",
    "        return arr[0] + sumArray(arr[1:])\n",
    "\n",
    "arr = [92, 23, 15, -20, 10]\n",
    "result = sumArray(arr)\n",
    "print(f\"The sum of the array is: {result}\")"
   ]
  },
  {
   "cell_type": "code",
   "execution_count": null,
   "id": "6895c651",
   "metadata": {},
   "outputs": [],
   "source": []
  },
  {
   "cell_type": "code",
   "execution_count": null,
   "id": "29650365",
   "metadata": {},
   "outputs": [],
   "source": [
    "# Q.5 Given a number n. Print if it is an armstrong number or not.An armstrong number is a number if the sum \n",
    "# of every digit in that number raised to the power of total digits in that number is equal to the number.\n",
    "\n",
    "# Example : 153 = 1^3 + 5^3 + 3^3 = 1 + 125 + 27 = 153 hence 153 is an armstrong number. (Easy)\n",
    "# Input1 : 153\n",
    "# Output1 : Yes\n",
    "# Input 2 : 134\n",
    "# Output2 : No"
   ]
  },
  {
   "cell_type": "code",
   "execution_count": 11,
   "id": "11be4d06",
   "metadata": {},
   "outputs": [
    {
     "name": "stdout",
     "output_type": "stream",
     "text": [
      "Is 153 an Armstrong number? Yes\n",
      "Is 134 an Armstrong number? No\n"
     ]
    }
   ],
   "source": [
    "def calculate_armstrong_sum(n, num_digits):\n",
    "    if n == 0:\n",
    "        return 0\n",
    "    else:\n",
    "        digit = n % 10\n",
    "        return (digit ** num_digits) + calculate_armstrong_sum(n // 10, num_digits)\n",
    "\n",
    "def is_armstrong_number_recursive(n):\n",
    "    # Count the number of digits\n",
    "    num_digits = len(str(n))\n",
    "    \n",
    "    # Calculate the sum using a recursive helper function\n",
    "    armstrong_sum = calculate_armstrong_sum(n, num_digits)\n",
    "    \n",
    "    # Check if the sum is equal to the original number\n",
    "    return armstrong_sum == n\n",
    "\n",
    "# Example usage:\n",
    "number1 = 153\n",
    "result1 = is_armstrong_number_recursive(number1)\n",
    "print(f\"Is {number1} an Armstrong number? {'Yes' if result1 else 'No'}\")\n",
    "\n",
    "number2 = 134\n",
    "result2 = is_armstrong_number_recursive(number2)\n",
    "print(f\"Is {number2} an Armstrong number? {'Yes' if result2 else 'No'}\")\n"
   ]
  },
  {
   "cell_type": "code",
   "execution_count": null,
   "id": "9009a611",
   "metadata": {},
   "outputs": [],
   "source": []
  },
  {
   "cell_type": "code",
   "execution_count": null,
   "id": "2e936edd",
   "metadata": {},
   "outputs": [],
   "source": []
  },
  {
   "cell_type": "code",
   "execution_count": null,
   "id": "294d361a",
   "metadata": {},
   "outputs": [],
   "source": []
  }
 ],
 "metadata": {
  "kernelspec": {
   "display_name": "Python 3 (ipykernel)",
   "language": "python",
   "name": "python3"
  },
  "language_info": {
   "codemirror_mode": {
    "name": "ipython",
    "version": 3
   },
   "file_extension": ".py",
   "mimetype": "text/x-python",
   "name": "python",
   "nbconvert_exporter": "python",
   "pygments_lexer": "ipython3",
   "version": "3.11.3"
  }
 },
 "nbformat": 4,
 "nbformat_minor": 5
}
