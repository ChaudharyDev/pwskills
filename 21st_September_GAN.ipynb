{
 "cells": [
  {
   "cell_type": "markdown",
   "id": "ddb3b900-6e6b-4d23-b41e-0aedb6d55cdc",
   "metadata": {},
   "source": [
    "1. Given an array, check if it contains any duplicates or not.\n",
    "arr = [1, 2, 4, 2, 5, 9]\n",
    "Output = True"
   ]
  },
  {
   "cell_type": "code",
   "execution_count": 2,
   "id": "f727b638-2cfc-4cdc-b11b-096d3ede7cc4",
   "metadata": {},
   "outputs": [
    {
     "name": "stdout",
     "output_type": "stream",
     "text": [
      "True\n"
     ]
    }
   ],
   "source": [
    "def check_duplicates(arr):\n",
    "    seen = set()\n",
    "    for num in arr:\n",
    "        if num in seen:\n",
    "            return True\n",
    "        seen.add(num)\n",
    "    return false\n",
    "\n",
    "#Driver code\n",
    "arr = [1, 2, 4, 2, 5, 9]\n",
    "result = check_duplicates(arr)\n",
    "print(result)"
   ]
  },
  {
   "cell_type": "markdown",
   "id": "cd512985-dbe8-48be-b995-a75e06f894d8",
   "metadata": {},
   "source": [
    "2. Given an array and an integer k, rotate the array to the right by k steps.\n",
    "arr = [1, 2, 3, 4, 5, 6, 7] k = 3\n",
    "Output = [5, 6, 7, 1, 2, 3, 4]"
   ]
  },
  {
   "cell_type": "code",
   "execution_count": 3,
   "id": "49026ed8-8c98-4cec-b0d8-a3e30ff47f4b",
   "metadata": {},
   "outputs": [
    {
     "name": "stdout",
     "output_type": "stream",
     "text": [
      "[5, 6, 7, 1, 2, 3, 4]\n"
     ]
    }
   ],
   "source": [
    "def rotate_array(arr, k):\n",
    "    n = len(arr)\n",
    "    k = k % n  # Ensure k is within the range of the array's length\n",
    "\n",
    "    # Reverse the first part of the array\n",
    "    arr[:n - k] = arr[:n - k][::-1]\n",
    "    \n",
    "    # Reverse the second part of the array\n",
    "    arr[n - k:] = arr[n - k:][::-1]\n",
    "    \n",
    "    # Reverse the entire array\n",
    "    arr[:] = arr[::-1]\n",
    "\n",
    "# Example usage:\n",
    "arr = [1, 2, 3, 4, 5, 6, 7]\n",
    "k = 3\n",
    "rotate_array(arr, k)\n",
    "print(arr)"
   ]
  },
  {
   "cell_type": "code",
   "execution_count": null,
   "id": "99e6d06e-dfe5-42ce-b7e4-332f9fcbc476",
   "metadata": {},
   "outputs": [],
   "source": [
    "3. Reverse the given array in-place, means without using any extra data structure.\n",
    "arr = [2, 4, 5, 7, 9, 12]\n",
    "Output = [12, 9, 7, 5, 4, 2]"
   ]
  },
  {
   "cell_type": "code",
   "execution_count": 4,
   "id": "d084150c-6a05-4737-b449-c193d2f3948a",
   "metadata": {},
   "outputs": [
    {
     "name": "stdout",
     "output_type": "stream",
     "text": [
      "[12, 9, 7, 5, 4, 2]\n"
     ]
    }
   ],
   "source": [
    "def reverse_array_in_place(arr):\n",
    "    left = 0\n",
    "    right = len(arr) - 1\n",
    "\n",
    "    while left < right:\n",
    "        # Swap elements at left and right pointers\n",
    "        arr[left], arr[right] = arr[right], arr[left]\n",
    "        left += 1\n",
    "        right -= 1\n",
    "\n",
    "# Example usage:\n",
    "arr = [2, 4, 5, 7, 9, 12]\n",
    "reverse_array_in_place(arr)\n",
    "print(arr)"
   ]
  },
  {
   "cell_type": "code",
   "execution_count": null,
   "id": "ef29729f-e504-4065-919d-8b08e1fc3838",
   "metadata": {},
   "outputs": [],
   "source": [
    "4. Given an array of integers, find the maximum element in an array\n",
    "arr = [10, 5, 20, 8, 15]\n",
    "Output = 20"
   ]
  },
  {
   "cell_type": "code",
   "execution_count": null,
   "id": "7de70ae5-1ae2-4b0c-8d6b-83592e37a8c4",
   "metadata": {},
   "outputs": [],
   "source": [
    "def find_maximum_element(arr):\n",
    "    if not arr:  # Handle the case of an empty array\n",
    "        return None\n",
    "\n",
    "    max_element = arr[0]  # Initialize max_element with the first element\n",
    "\n",
    "    for num in arr:\n",
    "        if num > max_element:\n",
    "            max_element = num\n",
    "\n",
    "    return max_element\n",
    "\n",
    "# Example usage:\n",
    "arr = [10, 5, 20, 8, 15]\n",
    "max_value = find_maximum_element(arr)\n",
    "print(max_value)  # Output will be 20\n"
   ]
  },
  {
   "cell_type": "code",
   "execution_count": null,
   "id": "2882cc37-ed91-4bd7-933a-39b55b6ca60d",
   "metadata": {},
   "outputs": [],
   "source": []
  }
 ],
 "metadata": {
  "kernelspec": {
   "display_name": "Python 3 (ipykernel)",
   "language": "python",
   "name": "python3"
  },
  "language_info": {
   "codemirror_mode": {
    "name": "ipython",
    "version": 3
   },
   "file_extension": ".py",
   "mimetype": "text/x-python",
   "name": "python",
   "nbconvert_exporter": "python",
   "pygments_lexer": "ipython3",
   "version": "3.10.8"
  }
 },
 "nbformat": 4,
 "nbformat_minor": 5
}
