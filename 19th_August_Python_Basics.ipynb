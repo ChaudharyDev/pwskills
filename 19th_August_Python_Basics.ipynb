{
 "cells": [
  {
   "cell_type": "raw",
   "id": "c872cc1e",
   "metadata": {},
   "source": [
    "1. Write a Python program that takes a string as input and prints the length of\n",
    "the string."
   ]
  },
  {
   "cell_type": "code",
   "execution_count": 3,
   "id": "f4f894a8",
   "metadata": {},
   "outputs": [
    {
     "name": "stdout",
     "output_type": "stream",
     "text": [
      "Enter a string: alexa\n",
      "The length of the string is: 5\n"
     ]
    }
   ],
   "source": [
    "# Input a string from the user\n",
    "user_input = input(\"Enter a string: \")\n",
    "\n",
    "# Calculate and print the length of the string\n",
    "length = len(user_input)\n",
    "print(f\"The length of the string is: {length}\")"
   ]
  },
  {
   "cell_type": "raw",
   "id": "594a0dc1",
   "metadata": {},
   "source": [
    "2. Create a program that takes a sentence from the user and counts the number\n",
    "of vowels (a, e, i, o, u) in the string."
   ]
  },
  {
   "cell_type": "code",
   "execution_count": 4,
   "id": "0b9b33cf",
   "metadata": {},
   "outputs": [
    {
     "name": "stdout",
     "output_type": "stream",
     "text": [
      "Enter the sentence: Alexa\n",
      "The number of vowels in the sentence is: 3\n"
     ]
    }
   ],
   "source": [
    "# Input a sentence from the user\n",
    "user_sentence = input(\"Enter the sentence: \")\n",
    "\n",
    "# Initialize a variable to store the count of vowels\n",
    "vowel_count = 0\n",
    "\n",
    "# Define a list of vowels (both lowercase and uppercase)\n",
    "vowels = ['a', 'e', 'i', 'o', 'u', 'A', 'E', 'I', 'O', 'U']\n",
    "\n",
    "# Iterate through each character in the user's sentence\n",
    "for char in user_sentence:\n",
    "    # Check if the character is in the list of vowels\n",
    "    if char in vowels:\n",
    "        # If it is a vowel, increment the vowel_count\n",
    "        vowel_count += 1\n",
    "\n",
    "# Print the count of vowels in the sentence\n",
    "print(f\"The number of vowels in the sentence is: {vowel_count}\")"
   ]
  },
  {
   "cell_type": "raw",
   "id": "f0725036",
   "metadata": {},
   "source": [
    "3. Given a string, reverse the order of characters using string slicing and print\n",
    "the reversed string."
   ]
  },
  {
   "cell_type": "code",
   "execution_count": 5,
   "id": "02d88a5a",
   "metadata": {},
   "outputs": [
    {
     "name": "stdout",
     "output_type": "stream",
     "text": [
      "Enter a string: Alexa\n",
      "The reversed String is: axelA\n"
     ]
    }
   ],
   "source": [
    "# Input a string from the user\n",
    "user_input = input(\"Enter a string: \")\n",
    "\n",
    "# Use string slicing to reverse the string\n",
    "reversed_string = user_input[::-1]\n",
    "\n",
    "# Print the reversed string\n",
    "print(f\"The reversed String is: {reversed_string}\")"
   ]
  },
  {
   "cell_type": "raw",
   "id": "1360eab4",
   "metadata": {},
   "source": [
    "4. Write a program that takes a string as input and checks if it is a palindrome\n",
    "(reads the same forwards and backwards)."
   ]
  },
  {
   "cell_type": "code",
   "execution_count": 6,
   "id": "476e7240",
   "metadata": {},
   "outputs": [
    {
     "name": "stdout",
     "output_type": "stream",
     "text": [
      "Enter a string: malayalam\n",
      "The input string is a palindrome.\n"
     ]
    }
   ],
   "source": [
    "# Input a string from the user\n",
    "user_input = input(\"Enter a string: \")\n",
    "\n",
    "# Remove spaces and convert to lowercase for case-insensitive comparison\n",
    "cleaned_input = user_input.replace(\" \", \"\").lower()\n",
    "\n",
    "# Check if the cleaned input string is equal to its reverse\n",
    "if cleaned_input == cleaned_input[::-1]:\n",
    "    print(\"The input string is a palindrome.\")\n",
    "else:\n",
    "    print(\"The input string is not a palindrome.\")\n"
   ]
  },
  {
   "cell_type": "raw",
   "id": "7c54ef7a",
   "metadata": {},
   "source": [
    "5. Create a program that takes a string as input and removes all the spaces from\n",
    "it. Print the modified string without spaces."
   ]
  },
  {
   "cell_type": "code",
   "execution_count": 8,
   "id": "367b1c24",
   "metadata": {},
   "outputs": [
    {
     "name": "stdout",
     "output_type": "stream",
     "text": [
      "Enter a string: I am learning python and datascience\n",
      "Modified string without spaces: Iamlearningpythonanddatascience\n"
     ]
    }
   ],
   "source": [
    "# Input a string from the user\n",
    "user_input = input(\"Enter a string: \")\n",
    "\n",
    "# Remove spaces from the input string\n",
    "modified_string = user_input.replace(\" \", \"\")\n",
    "\n",
    "# Print the modified string without spaces\n",
    "print(\"Modified string without spaces:\", modified_string)"
   ]
  },
  {
   "cell_type": "code",
   "execution_count": null,
   "id": "beafbc49",
   "metadata": {},
   "outputs": [],
   "source": []
  },
  {
   "cell_type": "code",
   "execution_count": null,
   "id": "406b2b0b",
   "metadata": {},
   "outputs": [],
   "source": []
  },
  {
   "cell_type": "code",
   "execution_count": null,
   "id": "b65313be",
   "metadata": {},
   "outputs": [],
   "source": []
  },
  {
   "cell_type": "code",
   "execution_count": null,
   "id": "fd563c3c",
   "metadata": {},
   "outputs": [],
   "source": []
  }
 ],
 "metadata": {
  "kernelspec": {
   "display_name": "Python 3 (ipykernel)",
   "language": "python",
   "name": "python3"
  },
  "language_info": {
   "codemirror_mode": {
    "name": "ipython",
    "version": 3
   },
   "file_extension": ".py",
   "mimetype": "text/x-python",
   "name": "python",
   "nbconvert_exporter": "python",
   "pygments_lexer": "ipython3",
   "version": "3.11.3"
  }
 },
 "nbformat": 4,
 "nbformat_minor": 5
}
