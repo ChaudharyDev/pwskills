{
 "cells": [
  {
   "cell_type": "markdown",
   "id": "30d06171",
   "metadata": {},
   "source": [
    "# Basic level"
   ]
  },
  {
   "cell_type": "code",
   "execution_count": 1,
   "id": "dd0f2ee2",
   "metadata": {},
   "outputs": [],
   "source": [
    "#1. Write a Python program to print the numbers from 1 to 10 using a `for` loop."
   ]
  },
  {
   "cell_type": "code",
   "execution_count": 7,
   "id": "5370ec83",
   "metadata": {},
   "outputs": [
    {
     "name": "stdout",
     "output_type": "stream",
     "text": [
      "1\n",
      "2\n",
      "3\n",
      "4\n",
      "5\n",
      "6\n",
      "7\n",
      "8\n",
      "9\n",
      "10\n"
     ]
    }
   ],
   "source": [
    "def print_number(start, end):\n",
    "    for i in range(start, end):\n",
    "        print(i)\n",
    "        \n",
    "print_number(1,11)"
   ]
  },
  {
   "cell_type": "code",
   "execution_count": null,
   "id": "52cc51e4",
   "metadata": {},
   "outputs": [],
   "source": [
    "#2. Create a program that calculates the sum of all numbers in a list using a `for` loop"
   ]
  },
  {
   "cell_type": "code",
   "execution_count": null,
   "id": "2502c622",
   "metadata": {},
   "outputs": [],
   "source": []
  },
  {
   "cell_type": "code",
   "execution_count": 20,
   "id": "aa1eb5c8",
   "metadata": {},
   "outputs": [
    {
     "name": "stdout",
     "output_type": "stream",
     "text": [
      "The sum of the numbers is: 15\n"
     ]
    }
   ],
   "source": [
    "def calculate_sum(numbers):\n",
    "    total = 0  # Initialize the total sum to 0\n",
    "\n",
    "    for number in numbers:\n",
    "        total += number\n",
    "    return total\n",
    "\n",
    "numbers = [1, 2, 3, 4, 5]\n",
    "result = calculate_sum(numbers)\n",
    "print(\"The sum of the numbers is:\", result)"
   ]
  },
  {
   "cell_type": "code",
   "execution_count": null,
   "id": "9e8a7036",
   "metadata": {},
   "outputs": [],
   "source": [
    "#3. Write a program to print the characters of a string in reverse order using a `for` loop."
   ]
  },
  {
   "cell_type": "code",
   "execution_count": 30,
   "id": "1b483368",
   "metadata": {},
   "outputs": [
    {
     "name": "stdout",
     "output_type": "stream",
     "text": [
      "Enter the string: hello world\n",
      "Reversed string: dlrow olleh\n"
     ]
    }
   ],
   "source": [
    "def reverse_string(input_string):\n",
    "    reversed_string = \"\"\n",
    "    \n",
    "    for char in reversed(input_string):\n",
    "        reversed_string += char\n",
    "    return reversed_string  # Return the reversed string\n",
    "\n",
    "user_input = input(\"Enter the string: \")\n",
    "result = reverse_string(user_input)\n",
    "print(\"Reversed string:\", result)\n"
   ]
  },
  {
   "cell_type": "code",
   "execution_count": null,
   "id": "4dd7098c",
   "metadata": {},
   "outputs": [],
   "source": [
    "#4. Develop a program that finds the factorial of a given number using a `for` loop."
   ]
  },
  {
   "cell_type": "code",
   "execution_count": 35,
   "id": "ec4d3a93",
   "metadata": {},
   "outputs": [
    {
     "name": "stdout",
     "output_type": "stream",
     "text": [
      "enter the number5\n",
      "The factorial of 5 is 120\n"
     ]
    }
   ],
   "source": [
    "def fact(num):\n",
    "    if num == 0:\n",
    "        print(1)\n",
    "    else:\n",
    "        result = 1\n",
    "        for i in range(1,num+1):\n",
    "            result = result*i\n",
    "        return result\n",
    "    \n",
    "user_input = int(input(\"enter the number\"))\n",
    "result=fact(user_input)\n",
    "print(f\"The factorial of {user_input} is {result}\")\n",
    "        "
   ]
  },
  {
   "cell_type": "code",
   "execution_count": null,
   "id": "529cc411",
   "metadata": {},
   "outputs": [],
   "source": [
    "#5. Create a program to print the multiplication table of a given number using a `for` loop."
   ]
  },
  {
   "cell_type": "code",
   "execution_count": 45,
   "id": "2dc476ed",
   "metadata": {},
   "outputs": [
    {
     "name": "stdout",
     "output_type": "stream",
     "text": [
      "Enter the number: 25\n",
      "25 * 1 = 25\n",
      "25 * 2 = 50\n",
      "25 * 3 = 75\n",
      "25 * 4 = 100\n",
      "25 * 5 = 125\n",
      "25 * 6 = 150\n",
      "25 * 7 = 175\n",
      "25 * 8 = 200\n",
      "25 * 9 = 225\n",
      "25 * 10 = 250\n"
     ]
    }
   ],
   "source": [
    "def table(num):\n",
    "    for i in range(1, 11):\n",
    "        result = num * i\n",
    "        print(f\"{num} * {i} = {result}\")\n",
    "\n",
    "user_input = int(input(\"Enter the number: \"))\n",
    "table(user_input)"
   ]
  },
  {
   "cell_type": "code",
   "execution_count": null,
   "id": "e413c462",
   "metadata": {},
   "outputs": [],
   "source": [
    "#6. Write a program that counts the number of even and odd numbers in a list using a `for` loop."
   ]
  },
  {
   "cell_type": "code",
   "execution_count": 53,
   "id": "1d828213",
   "metadata": {},
   "outputs": [
    {
     "name": "stdout",
     "output_type": "stream",
     "text": [
      "Enter a list of numbers separated by spaces: 2 4 5 6 78 8 5 3\n",
      "Even numbers: 5\n",
      "Odd numbers: 3\n"
     ]
    }
   ],
   "source": [
    "def count_odd_even(lst):\n",
    "    count_even = 0\n",
    "    count_odd = 0\n",
    "    for i in lst:\n",
    "        if i % 2 == 0:\n",
    "            count_even += 1\n",
    "        else:\n",
    "            count_odd += 1\n",
    "    print(f\"Even numbers: {count_even}\")\n",
    "    print(f\"Odd numbers: {count_odd}\")\n",
    "\n",
    "user_input = input(\"Enter a list of numbers separated by spaces: \")\n",
    "user_input = [int(x) for x in user_input.split()]  # Convert the input string to a list of integers\n",
    "count_odd_even(user_input)\n"
   ]
  },
  {
   "cell_type": "code",
   "execution_count": 54,
   "id": "73e07a2d",
   "metadata": {},
   "outputs": [],
   "source": [
    "#7. Develop a program that prints the squares of numbers from 1 to 5 using a `for` loop."
   ]
  },
  {
   "cell_type": "code",
   "execution_count": 58,
   "id": "c29aac9d",
   "metadata": {},
   "outputs": [
    {
     "name": "stdout",
     "output_type": "stream",
     "text": [
      "The square of 1 is 1\n",
      "The square of 2 is 4\n",
      "The square of 3 is 9\n",
      "The square of 4 is 16\n",
      "The square of 5 is 25\n"
     ]
    }
   ],
   "source": [
    "def print_squares(start, end):\n",
    "    for i in range(start, end + 1):\n",
    "        result = i ** 2\n",
    "        print(f\"The square of {i} is {result}\")\n",
    "\n",
    "# Call the function with the range 1 to 5\n",
    "print_squares(1, 5)"
   ]
  },
  {
   "cell_type": "code",
   "execution_count": null,
   "id": "96369125",
   "metadata": {},
   "outputs": [],
   "source": [
    "#8. Create a program to find the length of a string without using the `len()` function."
   ]
  },
  {
   "cell_type": "code",
   "execution_count": 64,
   "id": "d65b403c",
   "metadata": {},
   "outputs": [
    {
     "name": "stdout",
     "output_type": "stream",
     "text": [
      "Enter a string: i am learning python basics\n",
      "The length of the string is: 27\n"
     ]
    }
   ],
   "source": [
    "def string_length(input_string):\n",
    "    count = 0\n",
    "    for char in input_string:\n",
    "        count += 1\n",
    "    return count\n",
    "\n",
    "# Input string\n",
    "user_input = input(\"Enter a string: \")\n",
    "\n",
    "# Calculate and print the length of the string\n",
    "length = string_length(user_input)\n",
    "print(f\"The length of the string is: {length}\")"
   ]
  },
  {
   "cell_type": "code",
   "execution_count": null,
   "id": "d9fcf368",
   "metadata": {},
   "outputs": [],
   "source": [
    "# 9. Write a program that calculates the average of a list of numbers using a `for` loop."
   ]
  },
  {
   "cell_type": "code",
   "execution_count": 78,
   "id": "f5af6b1c",
   "metadata": {},
   "outputs": [
    {
     "name": "stdout",
     "output_type": "stream",
     "text": [
      "The average is: 3.0\n"
     ]
    }
   ],
   "source": [
    "def calculate_average(numbers):\n",
    "    total = 0\n",
    "    count = 0\n",
    "\n",
    "    for number in numbers:\n",
    "        total += number\n",
    "        count += 1\n",
    "\n",
    "    if count == 0:\n",
    "        return 0  # Avoid division by zero if the list is empty\n",
    "    else:\n",
    "        average = total / count\n",
    "        return average\n",
    "\n",
    "# Example list of numbers\n",
    "numbers = [1, 2, 3, 4, 5]\n",
    "\n",
    "# Calculate the average using the function\n",
    "result = calculate_average(numbers)\n",
    "\n",
    "# Print the calculated average\n",
    "print(\"The average is:\", result)\n"
   ]
  },
  {
   "cell_type": "code",
   "execution_count": null,
   "id": "994eaf82",
   "metadata": {},
   "outputs": [],
   "source": [
    "#10. Develop a program that prints the first `n` Fibonacci numbers using a `for` loop."
   ]
  },
  {
   "cell_type": "code",
   "execution_count": 83,
   "id": "aa51340c",
   "metadata": {},
   "outputs": [
    {
     "name": "stdout",
     "output_type": "stream",
     "text": [
      "Enter the number of Fibonacci numbers to print: 6\n",
      "0\n",
      "1\n",
      "1\n",
      "2\n",
      "3\n",
      "5\n"
     ]
    }
   ],
   "source": [
    "def print_fibonacci(n):\n",
    "    if n <= 0:\n",
    "        return  # Nothing to print for non-positive values of n\n",
    "    elif n == 1:\n",
    "        print(0)  # Special case: first Fibonacci number is 0\n",
    "    else:\n",
    "        # Initialize the first two Fibonacci numbers\n",
    "        fib1, fib2 = 0, 1\n",
    "        print(fib1)  # Print the first Fibonacci number\n",
    "        print(fib2)  # Print the second Fibonacci number\n",
    "\n",
    "        # Calculate and print the remaining Fibonacci numbers using a for loop\n",
    "        for _ in range(2, n):\n",
    "            fib_next = fib1 + fib2\n",
    "            print(fib_next)\n",
    "            fib1, fib2 = fib2, fib_next\n",
    "\n",
    "# Input the value of 'n'\n",
    "n = int(input(\"Enter the number of Fibonacci numbers to print: \"))\n",
    "\n",
    "# Call the function to print the Fibonacci numbers\n",
    "print_fibonacci(n)"
   ]
  },
  {
   "cell_type": "markdown",
   "id": "6fe0e21f",
   "metadata": {},
   "source": [
    "# Intermediate level"
   ]
  },
  {
   "cell_type": "code",
   "execution_count": null,
   "id": "4c3e77f0",
   "metadata": {},
   "outputs": [],
   "source": [
    "#11. Write a program to check if a given list contains any duplicates using a `for` loop."
   ]
  },
  {
   "cell_type": "code",
   "execution_count": 11,
   "id": "a7a85023",
   "metadata": {},
   "outputs": [
    {
     "name": "stdout",
     "output_type": "stream",
     "text": [
      "Enter the list (comma-separated): 1,2,3,8\n",
      "The list does not contain duplicates.\n"
     ]
    }
   ],
   "source": [
    "def find_duplicates(l):\n",
    "    seen = set()\n",
    "    for i in l:\n",
    "        if i in seen:\n",
    "            return True\n",
    "        seen.add(i)\n",
    "        \n",
    "    return False\n",
    "\n",
    "user_input = input(\"Enter the list (comma-separated): \")\n",
    "user_list = user_input.split(',')  # Convert the input to a list of elements\n",
    "\n",
    "has_duplicates = find_duplicates(user_list)\n",
    "\n",
    "if has_duplicates:\n",
    "    print(\"The list contains duplicates.\")\n",
    "else:\n",
    "    print(\"The list does not contain duplicates.\")\n"
   ]
  },
  {
   "cell_type": "code",
   "execution_count": null,
   "id": "d02359ea",
   "metadata": {},
   "outputs": [],
   "source": [
    "#12. Create a program that prints the prime numbers in a given range using a `for` loop."
   ]
  },
  {
   "cell_type": "code",
   "execution_count": 16,
   "id": "a0e3baf4",
   "metadata": {},
   "outputs": [
    {
     "name": "stdout",
     "output_type": "stream",
     "text": [
      "Prime numbers between 10 and 50: \n",
      "11\n",
      "13\n",
      "17\n",
      "19\n",
      "23\n",
      "29\n",
      "31\n",
      "37\n",
      "41\n",
      "43\n",
      "47\n"
     ]
    }
   ],
   "source": [
    "def print_primes_in_range(start, end):\n",
    "    for num in range(max(2, start), end + 1):\n",
    "        is_prime = True\n",
    "\n",
    "        for i in range(2, int(num**0.5) + 1):\n",
    "            if num % i == 0:\n",
    "                is_prime = False\n",
    "                break\n",
    "\n",
    "        if is_prime:\n",
    "            print(num)\n",
    "\n",
    "# Example usage:\n",
    "start = 10\n",
    "end = 50\n",
    "\n",
    "print(\"Prime numbers between {} and {}: \".format(start, end))\n",
    "print_primes_in_range(start, end)\n"
   ]
  },
  {
   "cell_type": "code",
   "execution_count": null,
   "id": "265d5adc",
   "metadata": {},
   "outputs": [],
   "source": [
    "# 13.Develop a program that counts the number of vowels in a string using a `for` loop"
   ]
  },
  {
   "cell_type": "code",
   "execution_count": 20,
   "id": "1ba82907",
   "metadata": {},
   "outputs": [
    {
     "name": "stdout",
     "output_type": "stream",
     "text": [
      "Enter the string: my name is kiran\n",
      "The number of vowels in the string is: 5\n"
     ]
    }
   ],
   "source": [
    "def count_vowels(string):\n",
    "    count = 0\n",
    "    for char in string:\n",
    "        if char in ['a', 'e', 'i', 'o', 'u', 'A', 'E', 'I', 'O', 'U']:\n",
    "            count += 1\n",
    "    return count\n",
    "\n",
    "input_string = input(\"Enter the string: \")\n",
    "result = count_vowels(input_string)\n",
    "print(\"The number of vowels in the string is:\", result)\n"
   ]
  },
  {
   "cell_type": "code",
   "execution_count": null,
   "id": "06f89826",
   "metadata": {},
   "outputs": [],
   "source": [
    "#14. Write a program to find the maximum element in a 2D list using a nested `for` loop."
   ]
  },
  {
   "cell_type": "code",
   "execution_count": 21,
   "id": "832bc433",
   "metadata": {},
   "outputs": [
    {
     "name": "stdout",
     "output_type": "stream",
     "text": [
      "The maximum element in the 2D list is: 12\n"
     ]
    }
   ],
   "source": [
    "def find_max_2d(input_list):\n",
    "    if not input_list:\n",
    "        return None  # Return None if the list is empty\n",
    "\n",
    "    max_element = input_list[0][0]  # Initialize max_element with the first element\n",
    "\n",
    "    for row in input_list:\n",
    "        for element in row:\n",
    "            if element > max_element:\n",
    "                max_element = element\n",
    "\n",
    "    return max_element\n",
    "\n",
    "# Example usage:\n",
    "matrix = [\n",
    "    [3, 8, 12],\n",
    "    [9, 4, 7],\n",
    "    [6, 11, 1]\n",
    "]\n",
    "\n",
    "maximum = find_max_2d(matrix)\n",
    "if maximum is not None:\n",
    "    print(\"The maximum element in the 2D list is:\", maximum)\n",
    "else:\n",
    "    print(\"The list is empty.\")\n"
   ]
  },
  {
   "cell_type": "code",
   "execution_count": null,
   "id": "97886962",
   "metadata": {},
   "outputs": [],
   "source": [
    "#15. Create a program that removes all occurrences of a specific element from a list using a `for` loop"
   ]
  },
  {
   "cell_type": "code",
   "execution_count": 24,
   "id": "85622577",
   "metadata": {},
   "outputs": [
    {
     "name": "stdout",
     "output_type": "stream",
     "text": [
      "Enter the list (comma-separated): 1,1,1,2,3,4,4\n",
      "Enter the element to remove: 4\n",
      "['1', '1', '1', '2', '3']\n"
     ]
    }
   ],
   "source": [
    "def remove_occurrence(lst, element_to_remove):\n",
    "    result = []\n",
    "    for item in lst:\n",
    "        if item != element_to_remove:\n",
    "            result.append(item)\n",
    "    return result\n",
    "\n",
    "user_input = input(\"Enter the list (comma-separated): \")\n",
    "user_list = user_input.split(',')\n",
    "\n",
    "element_to_remove = input(\"Enter the element to remove: \")\n",
    "\n",
    "result = remove_occurrence(user_list, element_to_remove)\n",
    "print(result)\n"
   ]
  },
  {
   "cell_type": "code",
   "execution_count": null,
   "id": "65a22e94",
   "metadata": {},
   "outputs": [],
   "source": [
    "#16. Develop a program that generates a multiplication table for numbers from 1 to 5 using a nested `for` loop."
   ]
  },
  {
   "cell_type": "code",
   "execution_count": 32,
   "id": "4417d288",
   "metadata": {},
   "outputs": [],
   "source": [
    "def table():\n",
    "    for i in range(1,6):\n",
    "        print(i)\n",
    "        "
   ]
  },
  {
   "cell_type": "code",
   "execution_count": 34,
   "id": "04613169",
   "metadata": {},
   "outputs": [
    {
     "name": "stdout",
     "output_type": "stream",
     "text": [
      "1\n",
      "2\n",
      "3\n",
      "4\n",
      "5\n"
     ]
    }
   ],
   "source": [
    " for i in range(1,6):\n",
    "        print(i)"
   ]
  },
  {
   "cell_type": "code",
   "execution_count": 37,
   "id": "f60f4cea",
   "metadata": {},
   "outputs": [
    {
     "name": "stdout",
     "output_type": "stream",
     "text": [
      "1 * 1 = 1\n",
      "1 * 2 = 2\n",
      "1 * 3 = 3\n",
      "1 * 4 = 4\n",
      "1 * 5 = 5\n",
      "1 * 6 = 6\n",
      "1 * 7 = 7\n",
      "1 * 8 = 8\n",
      "1 * 9 = 9\n",
      "1 * 10 = 10\n",
      "2 * 1 = 2\n",
      "2 * 2 = 4\n",
      "2 * 3 = 6\n",
      "2 * 4 = 8\n",
      "2 * 5 = 10\n",
      "2 * 6 = 12\n",
      "2 * 7 = 14\n",
      "2 * 8 = 16\n",
      "2 * 9 = 18\n",
      "2 * 10 = 20\n",
      "3 * 1 = 3\n",
      "3 * 2 = 6\n",
      "3 * 3 = 9\n",
      "3 * 4 = 12\n",
      "3 * 5 = 15\n",
      "3 * 6 = 18\n",
      "3 * 7 = 21\n",
      "3 * 8 = 24\n",
      "3 * 9 = 27\n",
      "3 * 10 = 30\n",
      "4 * 1 = 4\n",
      "4 * 2 = 8\n",
      "4 * 3 = 12\n",
      "4 * 4 = 16\n",
      "4 * 5 = 20\n",
      "4 * 6 = 24\n",
      "4 * 7 = 28\n",
      "4 * 8 = 32\n",
      "4 * 9 = 36\n",
      "4 * 10 = 40\n",
      "5 * 1 = 5\n",
      "5 * 2 = 10\n",
      "5 * 3 = 15\n",
      "5 * 4 = 20\n",
      "5 * 5 = 25\n",
      "5 * 6 = 30\n",
      "5 * 7 = 35\n",
      "5 * 8 = 40\n",
      "5 * 9 = 45\n",
      "5 * 10 = 50\n"
     ]
    }
   ],
   "source": [
    "def multiplication_table():\n",
    "    for i in range(1, 6): \n",
    "        for j in range(1, 11):\n",
    "            result = i * j\n",
    "            print(f\"{i} * {j} = {result}\")\n",
    "\n",
    "\n",
    "multiplication_table()   "
   ]
  },
  {
   "cell_type": "code",
   "execution_count": null,
   "id": "9a2085bf",
   "metadata": {},
   "outputs": [],
   "source": [
    "#17. Write a program that converts a list of Fahrenheit temperatures to Celsius using a `for` loop"
   ]
  },
  {
   "cell_type": "code",
   "execution_count": 38,
   "id": "66459ec8",
   "metadata": {},
   "outputs": [
    {
     "name": "stdout",
     "output_type": "stream",
     "text": [
      "32°F is 0.00°C\n",
      "68°F is 20.00°C\n",
      "100°F is 37.78°C\n",
      "212°F is 100.00°C\n",
      "50°F is 10.00°C\n"
     ]
    }
   ],
   "source": [
    "def fahrenheit_to_celsius(fahrenheit):\n",
    "    return (fahrenheit - 32) * 5/9\n",
    "\n",
    "# List of Fahrenheit temperatures\n",
    "fahrenheit_temperatures = [32, 68, 100, 212, 50]\n",
    "\n",
    "for fahrenheit in fahrenheit_temperatures:\n",
    "    celsius = fahrenheit_to_celsius(fahrenheit)\n",
    "    print(f\"{fahrenheit}°F is {celsius:.2f}°C\")\n"
   ]
  },
  {
   "cell_type": "code",
   "execution_count": null,
   "id": "1f9c874b",
   "metadata": {},
   "outputs": [],
   "source": [
    "#18. Create a program to print the common elements from two lists using a `for` loop"
   ]
  },
  {
   "cell_type": "code",
   "execution_count": 39,
   "id": "d650c25b",
   "metadata": {},
   "outputs": [
    {
     "name": "stdout",
     "output_type": "stream",
     "text": [
      "Enter the first list (comma-separated): 1,2,3,4,5,6,7\n",
      "Enter the second list (comma-separated):1,5,8,9,3,4\n",
      "Common elements in the two lists: ['1', '3', '4', '5']\n"
     ]
    }
   ],
   "source": [
    "def find_common_elements(list1, list2):\n",
    "    common_elements = []\n",
    "    \n",
    "    for item1 in list1:\n",
    "        for item2 in list2:\n",
    "            if item1 == item2:\n",
    "                common_elements.append(item1)\n",
    "    \n",
    "    return common_elements\n",
    "\n",
    "# Take user input for two lists\n",
    "user_input1 = input(\"Enter the first list (comma-separated): \")\n",
    "user_input2 = input(\"Enter the second list (comma-separated):\")\n",
    "\n",
    "list1 = user_input1.split(',')\n",
    "list2 = user_input2.split(',')\n",
    "\n",
    "common_elements = find_common_elements(list1, list2)\n",
    "\n",
    "if common_elements:\n",
    "    print(\"Common elements in the two lists:\", common_elements)\n",
    "else:\n",
    "    print(\"No common elements found.\")"
   ]
  },
  {
   "cell_type": "code",
   "execution_count": null,
   "id": "60f8790f",
   "metadata": {},
   "outputs": [],
   "source": [
    "#19. Develop a program that prints the pattern of right-angled triangles using a `for` loop. Use ‘*’ to draw the pattern"
   ]
  },
  {
   "cell_type": "code",
   "execution_count": 40,
   "id": "1f2f5083",
   "metadata": {},
   "outputs": [
    {
     "name": "stdout",
     "output_type": "stream",
     "text": [
      "* \n",
      "* * \n",
      "* * * \n",
      "* * * * \n",
      "* * * * * \n"
     ]
    }
   ],
   "source": [
    "def print_right_angle_triangle(height):\n",
    "    for i in range(1, height + 1):\n",
    "        for j in range(1, i + 1):\n",
    "            print('*', end=' ')\n",
    "        print()\n",
    "\n",
    "# Example usage:\n",
    "triangle_height = 5\n",
    "print_right_angle_triangle(triangle_height)"
   ]
  },
  {
   "cell_type": "code",
   "execution_count": null,
   "id": "af8b477c",
   "metadata": {},
   "outputs": [],
   "source": [
    "#20. Write a program to find the greatest common divisor (GCD) of two numbers using a `for` loop"
   ]
  },
  {
   "cell_type": "code",
   "execution_count": 43,
   "id": "3a342405",
   "metadata": {},
   "outputs": [
    {
     "name": "stdout",
     "output_type": "stream",
     "text": [
      "Enter the first number: 5\n",
      "Enter the second number: 3\n",
      "The GCD of 5 and 3 is 1\n"
     ]
    }
   ],
   "source": [
    "def find_gcd(a, b):\n",
    "    while b:\n",
    "        a, b = b, a % b\n",
    "    return a\n",
    "\n",
    "# Input two numbers\n",
    "num1 = int(input(\"Enter the first number: \"))\n",
    "num2 = int(input(\"Enter the second number: \"))\n",
    "\n",
    "# Calculate and print the GCD\n",
    "gcd = find_gcd(num1, num2)\n",
    "print(f\"The GCD of {num1} and {num2} is {gcd}\")"
   ]
  },
  {
   "cell_type": "markdown",
   "id": "a018f082",
   "metadata": {},
   "source": [
    "# Advanced Level:"
   ]
  },
  {
   "cell_type": "code",
   "execution_count": null,
   "id": "4df70718",
   "metadata": {},
   "outputs": [],
   "source": [
    "#21. Create a program that calculates the sum of the digits of numbers in a list using a list comprehension."
   ]
  },
  {
   "cell_type": "code",
   "execution_count": 46,
   "id": "0752e49d",
   "metadata": {},
   "outputs": [
    {
     "name": "stdout",
     "output_type": "stream",
     "text": [
      "The sum of digits in 123 is 6\n",
      "The sum of digits in 45 is 9\n",
      "The sum of digits in 6789 is 30\n",
      "The sum of digits in 12 is 3\n",
      "The sum of digits in 9 is 9\n"
     ]
    }
   ],
   "source": [
    "def digit_sum(number):\n",
    "    return sum(int(digit) for digit in str(number))\n",
    "\n",
    "# Example list of numbers\n",
    "numbers = [123, 45, 6789, 12, 9]\n",
    "\n",
    "# Calculate the sum of digits for each number using list comprehension\n",
    "sums = [digit_sum(num) for num in numbers]\n",
    "\n",
    "# Print the results\n",
    "for num, total in zip(numbers, sums):\n",
    "    print(f\"The sum of digits in {num} is {total}\")"
   ]
  },
  {
   "cell_type": "code",
   "execution_count": 49,
   "id": "be0b7788",
   "metadata": {},
   "outputs": [],
   "source": [
    "#22. Write a program to find the prime factors of a given number using a `for` loop and list comprehension."
   ]
  },
  {
   "cell_type": "code",
   "execution_count": 52,
   "id": "22677758",
   "metadata": {},
   "outputs": [
    {
     "name": "stdout",
     "output_type": "stream",
     "text": [
      "Enter a number: 10\n",
      "Prime factors of 10: [2, 10]\n"
     ]
    }
   ],
   "source": [
    "import math\n",
    "\n",
    "def find_prime_factors(n):\n",
    "    prime_factors = [x for x in range(2,int(math.sqrt(n)) + 1) if n % x == 0 and all(x % i != 0 for i in range(2,int(math.sqrt(x)) + 1))]\n",
    "    \n",
    "    if n > 1:\n",
    "        prime_factors.append(n)\n",
    "        \n",
    "    return prime_factors\n",
    "\n",
    "num = int(input(\"Enter a number: \"))\n",
    "\n",
    "if num < 2:\n",
    "    print(\"prime factors not applicable for numbers less than 2.\")\n",
    "else:\n",
    "    factors = find_prime_factors(num)\n",
    "    print(f\"Prime factors of {num}: {factors}\")\n",
    "    "
   ]
  },
  {
   "cell_type": "code",
   "execution_count": null,
   "id": "13e5e412",
   "metadata": {},
   "outputs": [],
   "source": [
    "#23. Develop a program that extracts unique elements from a list and stores them in a new list using a list comprehension"
   ]
  },
  {
   "cell_type": "code",
   "execution_count": 1,
   "id": "ef2ec384",
   "metadata": {},
   "outputs": [
    {
     "name": "stdout",
     "output_type": "stream",
     "text": [
      "Enter the list (comma-separeted)1,2,2,3,4,4\n",
      "['1', '2', '3', '4']\n"
     ]
    }
   ],
   "source": [
    "def extract_unique_elements(input_list):\n",
    "    unique_list = []\n",
    "    [unique_list.append(x) for x in input_list if x not in unique_list]\n",
    "    return unique_list\n",
    "\n",
    "original_list = [1, 2, 2, 3, 4, 4, 5, 6, 6]\n",
    "result = extract_unique_elements(original_list)\n",
    "print(\"Unique elements:\", result)"
   ]
  },
  {
   "cell_type": "code",
   "execution_count": null,
   "id": "1ac5df30",
   "metadata": {},
   "outputs": [],
   "source": [
    "# 24. Create a program that generates a list of all palindromic numbers up to a specified limit using a list comprehension."
   ]
  },
  {
   "cell_type": "code",
   "execution_count": 19,
   "id": "a5271df2",
   "metadata": {},
   "outputs": [
    {
     "name": "stdout",
     "output_type": "stream",
     "text": [
      "Enter the limit for palindromic numbers: 100\n",
      "[1, 2, 3, 4, 5, 6, 7, 8, 9, 11, 22, 33, 44, 55, 66, 77, 88, 99]\n"
     ]
    }
   ],
   "source": [
    "def is_palindrome(number):\n",
    "    original = number\n",
    "    reverse = 0\n",
    "\n",
    "    while number > 0:\n",
    "        remainder = number % 10\n",
    "        reverse = reverse * 10 + remainder\n",
    "        number = number // 10\n",
    "\n",
    "    return original == reverse\n",
    "\n",
    "def generate_palindromic_numbers(limit):\n",
    "    palindromic_numbers = [num for num in range(1, limit + 1) if is_palindrome(num)]\n",
    "    return palindromic_numbers\n",
    "\n",
    "# Get the limit as user input\n",
    "limit = int(input(\"Enter the limit for palindromic numbers: \"))\n",
    "\n",
    "# Generate and print the list of palindromic numbers up to the user-specified limit\n",
    "palindromic_numbers = generate_palindromic_numbers(limit)\n",
    "print(palindromic_numbers)"
   ]
  },
  {
   "cell_type": "code",
   "execution_count": 20,
   "id": "e4800e89",
   "metadata": {},
   "outputs": [],
   "source": [
    "#25. Write a program to flatten a nested list using list comprehension."
   ]
  },
  {
   "cell_type": "code",
   "execution_count": 29,
   "id": "b82c0ec9",
   "metadata": {},
   "outputs": [
    {
     "name": "stdout",
     "output_type": "stream",
     "text": [
      "[1, 2, 3, 4, 5, 6, 7]\n"
     ]
    }
   ],
   "source": [
    "def flatten_nested_list(nested_list):\n",
    "    flattened_list = []\n",
    "    for item in nested_list:\n",
    "        if isinstance(item, list):\n",
    "            flattened_list.extend(flatten_nested_list(item))\n",
    "        else:\n",
    "            flattened_list.append(item)\n",
    "    return flattened_list\n",
    "\n",
    "# Example nested list\n",
    "nested_list = [1, [2, [3, 4]], [5, 6], 7]\n",
    "\n",
    "# Flatten the nested list\n",
    "flattened_list = flatten_nested_list(nested_list)\n",
    "\n",
    "# Print the flattened list\n",
    "print(flattened_list)\n"
   ]
  },
  {
   "cell_type": "code",
   "execution_count": 42,
   "id": "be8c785e",
   "metadata": {},
   "outputs": [],
   "source": [
    "# 26. Develop a program that computes the sum of even and odd numbers in a list separately using list comprehension."
   ]
  },
  {
   "cell_type": "code",
   "execution_count": 72,
   "id": "0575006f",
   "metadata": {},
   "outputs": [
    {
     "name": "stdout",
     "output_type": "stream",
     "text": [
      "Sum of even numbers: 20\n",
      "Sum of odd numbers: 25\n"
     ]
    }
   ],
   "source": [
    "def sum_even_odd(numbers):\n",
    "    even_sum = sum([num for num in numbers if num % 2 == 0])\n",
    "    odd_sum = sum([num for num in numbers if num % 2 != 0])\n",
    "    return even_sum, odd_sum\n",
    "\n",
    "# Example list of numbers\n",
    "numbers = [1, 2, 3, 4, 5, 6, 7, 8, 9]\n",
    "\n",
    "# Compute the sum of even and odd numbers\n",
    "even_sum, odd_sum = sum_even_odd(numbers)\n",
    "\n",
    "# Print the results\n",
    "print(\"Sum of even numbers:\", even_sum)\n",
    "print(\"Sum of odd numbers:\", odd_sum)\n"
   ]
  },
  {
   "cell_type": "code",
   "execution_count": 73,
   "id": "fdbd658a",
   "metadata": {},
   "outputs": [],
   "source": [
    "#27. Create a program that generates a list of squares of odd numbers between 1 and 10 using list comprehension"
   ]
  },
  {
   "cell_type": "code",
   "execution_count": 82,
   "id": "7e4c4756",
   "metadata": {},
   "outputs": [
    {
     "name": "stdout",
     "output_type": "stream",
     "text": [
      "[1, 9, 25, 49, 81]\n"
     ]
    }
   ],
   "source": [
    "def odd_lst_square():\n",
    "    odd_square = [x**2 for x in range(1, 11) if x % 2 != 0]\n",
    "    return odd_square\n",
    "\n",
    "result = odd_lst_square()\n",
    "print(result)"
   ]
  },
  {
   "cell_type": "code",
   "execution_count": 83,
   "id": "894aaada",
   "metadata": {},
   "outputs": [],
   "source": [
    "#28. Write a program that combines two lists into a dictionary using list comprehension."
   ]
  },
  {
   "cell_type": "code",
   "execution_count": 104,
   "id": "31e047b8",
   "metadata": {},
   "outputs": [
    {
     "name": "stdout",
     "output_type": "stream",
     "text": [
      "{'name': 'kiran', 'email': 'kiran@gmail.com', 'address': 'Haryana'}\n"
     ]
    }
   ],
   "source": [
    "def lst_to_dict(keys, values):\n",
    "    gen_dict = {keys[i]: values[i] for i in range(min(len(keys), len(values)))}\n",
    "    return gen_dict\n",
    "\n",
    "l = [\"name\", \"email\", \"address\"]\n",
    "l1 = [\"kiran\", \"kiran@gmail.com\", \"Haryana\"]\n",
    "\n",
    "result_dict = lst_to_dict(l, l1)\n",
    "print(result_dict)\n"
   ]
  },
  {
   "cell_type": "code",
   "execution_count": null,
   "id": "5fc5345f",
   "metadata": {},
   "outputs": [],
   "source": [
    "# 29. Develop a program that extracts the vowels from a string and stores them in a list using list comprehension."
   ]
  },
  {
   "cell_type": "code",
   "execution_count": 112,
   "id": "97908e61",
   "metadata": {},
   "outputs": [
    {
     "name": "stdout",
     "output_type": "stream",
     "text": [
      "['a', 'e', 'i', 'i', 'a', 'a', 'u', 'a']\n"
     ]
    }
   ],
   "source": [
    "def extract_vowel(string):\n",
    "    vowels=[item for item in string if item.lower() in ['a','e','i','o','u']]\n",
    "    return vowels\n",
    "\n",
    "#Driver Code\n",
    "input_string = \"My name is kiran chaudhary\"\n",
    "result=extract_vowel(input_string)\n",
    "print(result)"
   ]
  },
  {
   "cell_type": "code",
   "execution_count": null,
   "id": "8a5f880a",
   "metadata": {},
   "outputs": [],
   "source": [
    "#30. Create a program that removes all non-numeric characters from a list of strings using list comprehension"
   ]
  },
  {
   "cell_type": "code",
   "execution_count": 122,
   "id": "48202d8a",
   "metadata": {},
   "outputs": [
    {
     "name": "stdout",
     "output_type": "stream",
     "text": [
      "['123', '123', '456', '789']\n"
     ]
    }
   ],
   "source": [
    "def remove_non_numeric(strings):\n",
    "    # Use list comprehension to remove non-numeric characters from each string\n",
    "    cleaned_strings = [''.join(char for char in string if char.isdigit()) for string in strings]\n",
    "    return cleaned_strings\n",
    "\n",
    "# Example list of strings with non-numeric characters\n",
    "strings_with_non_numeric = [\"abc123\", \"x1y2z3\", \"456xyz\", \"789\"]\n",
    "\n",
    "# Remove non-numeric characters from the strings\n",
    "cleaned_strings = remove_non_numeric(strings_with_non_numeric)\n",
    "\n",
    "# Print the cleaned strings\n",
    "print(cleaned_strings)"
   ]
  },
  {
   "cell_type": "code",
   "execution_count": null,
   "id": "3f3ed63a",
   "metadata": {},
   "outputs": [],
   "source": []
  },
  {
   "cell_type": "markdown",
   "id": "3dc84598",
   "metadata": {},
   "source": [
    "# Challenge Level:"
   ]
  },
  {
   "cell_type": "code",
   "execution_count": null,
   "id": "161b0771",
   "metadata": {},
   "outputs": [],
   "source": [
    "# 31. Write a program to generate a list of prime numbers using the Sieve of Eratosthenes algorithm and list comprehension"
   ]
  },
  {
   "cell_type": "code",
   "execution_count": 123,
   "id": "74abae33",
   "metadata": {},
   "outputs": [
    {
     "name": "stdout",
     "output_type": "stream",
     "text": [
      "[2, 3, 5, 7, 11, 13, 17, 19, 23, 29, 31, 37, 41, 43, 47, 53, 59, 61, 67, 71, 73, 79, 83, 89, 97]\n"
     ]
    }
   ],
   "source": [
    "def sieve_of_eratosthenes(limit):\n",
    "    sieve = [True] * (limit + 1)\n",
    "    sieve[0] = sieve[1] = False\n",
    "\n",
    "    for number in range(2, int(limit**0.5) + 1):\n",
    "        if sieve[number]:\n",
    "            for multiple in range(number * number, limit + 1, number):\n",
    "                sieve[multiple] = False\n",
    "\n",
    "    prime_numbers = [num for num in range(2, limit + 1) if sieve[num]]\n",
    "    return prime_numbers\n",
    "\n",
    "# Specify the limit for prime number generation\n",
    "limit = 100\n",
    "\n",
    "# Generate and print the list of prime numbers up to the limit\n",
    "prime_numbers = sieve_of_eratosthenes(limit)\n",
    "print(prime_numbers)\n"
   ]
  },
  {
   "cell_type": "code",
   "execution_count": null,
   "id": "88d4b40c",
   "metadata": {},
   "outputs": [],
   "source": [
    "# 32. Create a program that generates a list of all Pythagorean triplets up to a specified limit using list comprehension\n"
   ]
  },
  {
   "cell_type": "code",
   "execution_count": 124,
   "id": "a7dae688",
   "metadata": {},
   "outputs": [
    {
     "name": "stdout",
     "output_type": "stream",
     "text": [
      "[(3, 4, 5), (5, 12, 13), (6, 8, 10), (8, 15, 17), (9, 12, 15), (12, 16, 20)]\n"
     ]
    }
   ],
   "source": [
    "def pythagorean_triplets(limit):\n",
    "    triplets = [(a, b, c) for a in range(1, limit + 1)\n",
    "                            for b in range(a, limit + 1)\n",
    "                            for c in range(b, limit + 1)\n",
    "                            if a**2 + b**2 == c**2]\n",
    "    return triplets\n",
    "\n",
    "# Specify the limit for Pythagorean triplets\n",
    "limit = 20  # You can change this limit to your desired value\n",
    "\n",
    "# Generate and print the list of Pythagorean triplets up to the limit\n",
    "triplets = pythagorean_triplets(limit)\n",
    "print(triplets)\n"
   ]
  },
  {
   "cell_type": "code",
   "execution_count": 125,
   "id": "3bf11e1a",
   "metadata": {},
   "outputs": [],
   "source": [
    "# 33. Develop a program that generates a list of all possible combinations of two lists using list comprehension."
   ]
  },
  {
   "cell_type": "code",
   "execution_count": 126,
   "id": "72472a21",
   "metadata": {},
   "outputs": [
    {
     "name": "stdout",
     "output_type": "stream",
     "text": [
      "[(1, 'a'), (1, 'b'), (2, 'a'), (2, 'b'), (3, 'a'), (3, 'b')]\n"
     ]
    }
   ],
   "source": [
    "def generate_combinations(list1, list2):\n",
    "    combinations = [(x, y) for x in list1 for y in list2]\n",
    "    return combinations\n",
    "\n",
    "# Example lists\n",
    "list1 = [1, 2, 3]\n",
    "list2 = ['a', 'b']\n",
    "\n",
    "# Generate and print the combinations\n",
    "combinations = generate_combinations(list1, list2)\n",
    "print(combinations)\n"
   ]
  },
  {
   "cell_type": "code",
   "execution_count": null,
   "id": "0937e213",
   "metadata": {},
   "outputs": [],
   "source": [
    "# 34. Write a program that calculates the mean, median, and mode of a list of numbers using list comprehension.\n"
   ]
  },
  {
   "cell_type": "code",
   "execution_count": 127,
   "id": "70d84620",
   "metadata": {},
   "outputs": [
    {
     "name": "stdout",
     "output_type": "stream",
     "text": [
      "Mean: 3.3333333333333335\n",
      "Median: 4.0\n",
      "Mode: 4\n"
     ]
    },
    {
     "name": "stderr",
     "output_type": "stream",
     "text": [
      "C:\\Users\\kiran.chaudhary\\AppData\\Local\\Temp\\ipykernel_75136\\2081130544.py:12: FutureWarning: Unlike other reduction functions (e.g. `skew`, `kurtosis`), the default behavior of `mode` typically preserves the axis it acts along. In SciPy 1.11.0, this behavior will change: the default value of `keepdims` will become False, the `axis` over which the statistic is taken will be eliminated, and the value None will no longer be accepted. Set `keepdims` to True or False to avoid this warning.\n",
      "  mode = stats.mode(numbers)\n"
     ]
    }
   ],
   "source": [
    "import numpy as np\n",
    "from scipy import stats\n",
    "\n",
    "def calculate_statistics(numbers):\n",
    "    # Calculate the mean using NumPy\n",
    "    mean = np.mean(numbers)\n",
    "\n",
    "    # Calculate the median using NumPy\n",
    "    median = np.median(numbers)\n",
    "\n",
    "    # Calculate the mode using SciPy\n",
    "    mode = stats.mode(numbers)\n",
    "\n",
    "    return mean, median, mode.mode[0]\n",
    "\n",
    "# Example list of numbers\n",
    "numbers = [1, 2, 2, 3, 4, 4, 4, 5, 5]\n",
    "\n",
    "# Calculate the mean, median, and mode\n",
    "mean, median, mode = calculate_statistics(numbers)\n",
    "\n",
    "print(f\"Mean: {mean}\")\n",
    "print(f\"Median: {median}\")\n",
    "print(f\"Mode: {mode}\")\n"
   ]
  },
  {
   "cell_type": "code",
   "execution_count": null,
   "id": "e6dff72a",
   "metadata": {},
   "outputs": [],
   "source": [
    "# 35. Create a program that generates Pascal's triangle up to a specified number of rows using list comprehension."
   ]
  },
  {
   "cell_type": "code",
   "execution_count": 130,
   "id": "428b0c6b",
   "metadata": {},
   "outputs": [
    {
     "name": "stdout",
     "output_type": "stream",
     "text": [
      "    1    \n",
      "   1 1   \n",
      "  1 2 1  \n",
      " 1 3 3 1 \n",
      "1 4 6 4 1\n"
     ]
    }
   ],
   "source": [
    "def generate_pascals_triangle(num_rows):\n",
    "    triangle = []\n",
    "    for i in range(num_rows):\n",
    "        if i == 0:\n",
    "            triangle.append([1])\n",
    "        else:\n",
    "            prev_row = triangle[i - 1]\n",
    "            new_row = [1]\n",
    "            for j in range(1, i):\n",
    "                new_value = prev_row[j - 1] + prev_row[j]\n",
    "                new_row.append(new_value)\n",
    "            new_row.append(1)\n",
    "            triangle.append(new_row)\n",
    "    return triangle\n",
    "\n",
    "def print_pascals_triangle(triangle):\n",
    "    max_width = len(' '.join(map(str, triangle[-1])))\n",
    "    for row in triangle:\n",
    "        row_str = ' '.join(map(str, row))\n",
    "        print(row_str.center(max_width))\n",
    "\n",
    "# Specify the number of rows for Pascal's triangle\n",
    "num_rows = 5\n",
    "\n",
    "# Generate and print Pascal's triangle\n",
    "triangle = generate_pascals_triangle(num_rows)\n",
    "print_pascals_triangle(triangle)\n"
   ]
  },
  {
   "cell_type": "code",
   "execution_count": null,
   "id": "4383ff83",
   "metadata": {},
   "outputs": [],
   "source": [
    "# 36. Develop a program that calculates the sum of the digits of a factorial of numbers from 1 to 5 using list comprehension."
   ]
  },
  {
   "cell_type": "code",
   "execution_count": 131,
   "id": "069ae653",
   "metadata": {},
   "outputs": [
    {
     "name": "stdout",
     "output_type": "stream",
     "text": [
      "Sum of digits for 1! = 1\n",
      "Sum of digits for 2! = 2\n",
      "Sum of digits for 3! = 6\n",
      "Sum of digits for 4! = 6\n",
      "Sum of digits for 5! = 3\n"
     ]
    }
   ],
   "source": [
    "import math\n",
    "\n",
    "def factorial(n):\n",
    "    if n == 0:\n",
    "        return 1\n",
    "    else:\n",
    "        return n * factorial(n - 1)\n",
    "\n",
    "def sum_of_digits(number):\n",
    "    return sum(int(digit) for digit in str(number))\n",
    "\n",
    "# Calculate the sum of digits for factorials of numbers from 1 to 5\n",
    "n_values = [1, 2, 3, 4, 5]\n",
    "factorial_values = [factorial(n) for n in n_values]\n",
    "digit_sums = [sum_of_digits(factorial) for factorial in factorial_values]\n",
    "\n",
    "for n, digit_sum in zip(n_values, digit_sums):\n",
    "    print(f\"Sum of digits for {n}! = {digit_sum}\")\n"
   ]
  },
  {
   "cell_type": "code",
   "execution_count": 132,
   "id": "8274822d",
   "metadata": {},
   "outputs": [],
   "source": [
    "#37. Write a program that finds the longest word in a sentence using list comprehension."
   ]
  },
  {
   "cell_type": "code",
   "execution_count": null,
   "id": "64541606",
   "metadata": {},
   "outputs": [],
   "source": [
    "def longest_word(string):\n",
    "    l_word = [word for word in string if len(word)< ]"
   ]
  },
  {
   "cell_type": "code",
   "execution_count": 135,
   "id": "7b8287f9",
   "metadata": {},
   "outputs": [
    {
     "name": "stdout",
     "output_type": "stream",
     "text": [
      "Longest word: Learning\n"
     ]
    }
   ],
   "source": [
    "def find_longest_word(sentence):\n",
    "    words = sentence.split()  # Split the sentence into words\n",
    "    longest_word = max(words, key=lambda word: len(word))\n",
    "    return longest_word\n",
    "\n",
    "# Example sentence\n",
    "sentence = \"Learning full stack data science pro\"\n",
    "\n",
    "# Find and print the longest word in the sentence\n",
    "longest_word = find_longest_word(sentence)\n",
    "print(\"Longest word:\", longest_word)\n"
   ]
  },
  {
   "cell_type": "code",
   "execution_count": 137,
   "id": "53adfc15",
   "metadata": {},
   "outputs": [],
   "source": [
    "#38. Create a program that filters a list of strings to include only those with more than three vowels using list \n",
    "#comprehension"
   ]
  },
  {
   "cell_type": "code",
   "execution_count": 140,
   "id": "b1326e7b",
   "metadata": {},
   "outputs": [
    {
     "name": "stdout",
     "output_type": "stream",
     "text": [
      "['banana']\n"
     ]
    }
   ],
   "source": [
    "def count_vowels(word):\n",
    "    # Count the number of vowels in a word\n",
    "    return sum(1 for letter in word if letter.lower() in 'aeiou')\n",
    "\n",
    "def filter_strings_with_vowels(strings, min_vowels=3):\n",
    "    # Use list comprehension to filter strings with more than min_vowels vowels\n",
    "    filtered_strings = [word for word in strings if count_vowels(word) > min_vowels - 1]\n",
    "    return filtered_strings\n",
    "\n",
    "# Example list of strings\n",
    "strings = [\"apple\", \"banana\", \"cherry\", \"date\", \"fig\", \"grape\"]\n",
    "\n",
    "# Filter and print strings with more than 3 vowels\n",
    "filtered_strings = filter_strings_with_vowels(strings, min_vowels=3)\n",
    "print(filtered_strings)"
   ]
  },
  {
   "cell_type": "code",
   "execution_count": null,
   "id": "7aa916af",
   "metadata": {},
   "outputs": [],
   "source": [
    "#39. Develop a program that calculates the sum of the digits of numbers from 1 to 1000 using list \n",
    "comprehension."
   ]
  },
  {
   "cell_type": "code",
   "execution_count": 141,
   "id": "e86fb870",
   "metadata": {},
   "outputs": [
    {
     "name": "stdout",
     "output_type": "stream",
     "text": [
      "Total sum of digits from 1 to 1000: 13501\n"
     ]
    }
   ],
   "source": [
    "# Define a function to calculate the sum of digits for a given number\n",
    "def sum_of_digits(number):\n",
    "    return sum(int(digit) for digit in str(number))\n",
    "\n",
    "# Use list comprehension to calculate the sum of digits for numbers from 1 to 1000\n",
    "digit_sums = [sum_of_digits(number) for number in range(1, 1001)]\n",
    "\n",
    "# Calculate the total sum of the digit sums\n",
    "total_sum = sum(digit_sums)\n",
    "\n",
    "print(\"Total sum of digits from 1 to 1000:\", total_sum)\n"
   ]
  },
  {
   "cell_type": "code",
   "execution_count": 142,
   "id": "e11b81da",
   "metadata": {},
   "outputs": [],
   "source": [
    "#40. Write a program that generates a list of prime palindromic numbers using list comprehension"
   ]
  },
  {
   "cell_type": "code",
   "execution_count": 143,
   "id": "af966d6c",
   "metadata": {},
   "outputs": [
    {
     "name": "stdout",
     "output_type": "stream",
     "text": [
      "[2, 3, 5, 7, 11, 101, 131, 151, 181, 191, 313, 353, 373, 383, 727, 757, 787, 797, 919, 929]\n"
     ]
    }
   ],
   "source": [
    "def is_prime(n):\n",
    "    if n <= 1:\n",
    "        return False\n",
    "    if n == 2:\n",
    "        return True\n",
    "    if n % 2 == 0:\n",
    "        return False\n",
    "    for i in range(3, int(n**0.5) + 1, 2):\n",
    "        if n % i == 0:\n",
    "            return False\n",
    "    return True\n",
    "\n",
    "def is_palindrome(n):\n",
    "    return str(n) == str(n)[::-1]\n",
    "\n",
    "# Use list comprehension to generate a list of prime palindromic numbers\n",
    "prime_palindromic_numbers = [n for n in range(2, 1000) if is_prime(n) and is_palindrome(n)]\n",
    "\n",
    "print(prime_palindromic_numbers)\n"
   ]
  },
  {
   "cell_type": "code",
   "execution_count": null,
   "id": "7378201a",
   "metadata": {},
   "outputs": [],
   "source": []
  }
 ],
 "metadata": {
  "kernelspec": {
   "display_name": "Python 3 (ipykernel)",
   "language": "python",
   "name": "python3"
  },
  "language_info": {
   "codemirror_mode": {
    "name": "ipython",
    "version": 3
   },
   "file_extension": ".py",
   "mimetype": "text/x-python",
   "name": "python",
   "nbconvert_exporter": "python",
   "pygments_lexer": "ipython3",
   "version": "3.11.3"
  }
 },
 "nbformat": 4,
 "nbformat_minor": 5
}
